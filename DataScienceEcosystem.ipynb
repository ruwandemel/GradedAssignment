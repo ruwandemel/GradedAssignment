{
 "cells": [
  {
   "cell_type": "markdown",
   "id": "d61203d6-8048-42a5-8c0f-8306a2d77207",
   "metadata": {},
   "source": [
    "# Data Science Tools and Ecosystem\n"
   ]
  },
  {
   "cell_type": "markdown",
   "id": "95edcfd5-6c98-4b6d-9a90-faa05adabc8c",
   "metadata": {},
   "source": [
    "In this notebook, Data Science Tools and Ecosystem are summarized.\n"
   ]
  },
  {
   "cell_type": "markdown",
   "id": "20741c57-2eb3-4dd2-87f1-e87043406196",
   "metadata": {},
   "source": [
    "**Objectives:**\n",
    "- List popular languages for Data Science\n",
    "- Liste commonly used libraries by Data Scientists\n",
    "- Data Science Tools\n",
    "- Examples of Arithmetic expresssions \n"
   ]
  },
  {
   "cell_type": "markdown",
   "id": "0336f269-03e8-4848-911c-848535e225e6",
   "metadata": {},
   "source": [
    "Some of the popular languages that Data Scientists use are:\n",
    "1. R\n",
    "2. Python\n",
    "3. C++\n",
    "\n"
   ]
  },
  {
   "cell_type": "markdown",
   "id": "3b2be5b9-44f5-4871-a30f-64f20231f43b",
   "metadata": {},
   "source": [
    "Some of the commonly used libraries used by Data Scientists include:\n",
    "1. Matplotlib\n",
    "2. NumPy\n",
    "3. SciPy\n",
    "4. Plotly\n",
    "\n"
   ]
  },
  {
   "cell_type": "markdown",
   "id": "5e39115c-bccd-47b6-b93a-9d1d0f6736f8",
   "metadata": {},
   "source": [
    "\n",
    "|Data Science Tools |  \n",
    "| ------ | \n",
    "| Jupyter | \n",
    "| Atom | \n",
    "| Spyder |\n"
   ]
  },
  {
   "cell_type": "markdown",
   "id": "361adb63-18a4-4f05-ad31-1dbb9d176942",
   "metadata": {},
   "source": [
    "### Below are a few examples of evaluating arithmetic expressions in Python.\n"
   ]
  },
  {
   "cell_type": "code",
   "execution_count": 1,
   "id": "4e15cec7-73dd-49ef-b886-da40a8518f0e",
   "metadata": {
    "tags": []
   },
   "outputs": [
    {
     "data": {
      "text/plain": [
       "17"
      ]
     },
     "execution_count": 1,
     "metadata": {},
     "output_type": "execute_result"
    }
   ],
   "source": [
    "# This a simple arithmetic expression to mutiply then add integers. \n",
    "(3*4)+5\n"
   ]
  },
  {
   "cell_type": "code",
   "execution_count": 2,
   "id": "dcf47f65-5e11-4ca2-b090-56e17a42266b",
   "metadata": {
    "tags": []
   },
   "outputs": [
    {
     "data": {
      "text/plain": [
       "3.3333333333333335"
      ]
     },
     "execution_count": 2,
     "metadata": {},
     "output_type": "execute_result"
    }
   ],
   "source": [
    "# This will convert 200 minutes to hours by diving by 60\n",
    "200/60\n",
    "\n"
   ]
  },
  {
   "cell_type": "markdown",
   "id": "685045d6-d08a-4446-b814-d120fc2e3c33",
   "metadata": {},
   "source": [
    "## Author\n",
    "Vidanelage Ruwan Chinthaka De Mel\n"
   ]
  },
  {
   "cell_type": "code",
   "execution_count": null,
   "id": "7680461d-220c-4e0f-b453-51961e1dce4d",
   "metadata": {},
   "outputs": [],
   "source": []
  }
 ],
 "metadata": {
  "kernelspec": {
   "display_name": "Python",
   "language": "python",
   "name": "conda-env-python-py"
  },
  "language_info": {
   "codemirror_mode": {
    "name": "ipython",
    "version": 3
   },
   "file_extension": ".py",
   "mimetype": "text/x-python",
   "name": "python",
   "nbconvert_exporter": "python",
   "pygments_lexer": "ipython3",
   "version": "3.7.12"
  }
 },
 "nbformat": 4,
 "nbformat_minor": 5
}
